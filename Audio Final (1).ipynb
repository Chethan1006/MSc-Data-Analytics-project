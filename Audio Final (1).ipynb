{
 "cells": [
  {
   "cell_type": "code",
   "execution_count": 1,
   "id": "963b628b",
   "metadata": {},
   "outputs": [],
   "source": [
    "#importing libraries\n",
    "\n",
    "import os\n",
    "import librosa\n",
    "import pandas as pd\n",
    "import numpy as np\n",
    "from sklearn.model_selection import train_test_split\n",
    "import os\n",
    "import pandas as pd\n",
    "import numpy as np\n",
    "from sklearn.model_selection import train_test_split\n",
    "from keras.utils import to_categorical\n",
    "from sklearn.preprocessing import StandardScaler, LabelEncoder\n",
    "from keras.models import Sequential\n",
    "from keras.layers import Dense, Dropout\n",
    "from sklearn.metrics import classification_report, accuracy_score\n",
    "from sklearn.model_selection import train_test_split\n",
    "\n",
    "# Function to load RAVDESS dataset\n",
    "def load_ravdess_dataset(dataset_path):\n",
    "    data = {'path': [], 'emotion': []}\n",
    "\n",
    "    # Iterate over actor folders\n",
    "    for actor_folder in os.listdir(dataset_path):\n",
    "        actor_path = os.path.join(dataset_path, actor_folder)\n",
    "\n",
    "        if os.path.isdir(actor_path):\n",
    "            # Iterate over audio files in each actor folder\n",
    "            for audio_file in os.listdir(actor_path):\n",
    "                audio_path = os.path.join(actor_path, audio_file)\n",
    "\n",
    "                # Extract emotion from the file name (assuming file names are structured)\n",
    "                emotion = int(audio_file.split('-')[2])\n",
    "\n",
    "                # Append data to the dictionary\n",
    "                data['path'].append(audio_path)\n",
    "                data['emotion'].append(emotion)\n",
    "\n",
    "    # Create a DataFrame from the dictionary\n",
    "    df = pd.DataFrame(data)\n",
    "    \n",
    "    return df\n",
    "\n",
    "# path to the dataset\n",
    "dataset_path = r'C:\\\\Users\\\\chethan\\\\Downloads\\\\RIC\\\\audio_speech_actors_01-24'\n",
    "\n",
    "# Loading the dataset\n",
    "ravdess_dataset = load_ravdess_dataset(dataset_path)\n"
   ]
  },
  {
   "cell_type": "code",
   "execution_count": 2,
   "id": "1cdca3ba",
   "metadata": {},
   "outputs": [
    {
     "name": "stdout",
     "output_type": "stream",
     "text": [
      "<class 'pandas.core.frame.DataFrame'>\n",
      "RangeIndex: 1440 entries, 0 to 1439\n",
      "Data columns (total 2 columns):\n",
      " #   Column   Non-Null Count  Dtype \n",
      "---  ------   --------------  ----- \n",
      " 0   path     1440 non-null   object\n",
      " 1   emotion  1440 non-null   int64 \n",
      "dtypes: int64(1), object(1)\n",
      "memory usage: 22.6+ KB\n",
      "None\n",
      "(1440, 2)\n"
     ]
    }
   ],
   "source": [
    "#This shows the number of records in the dataset\n",
    "print(ravdess_dataset.info())\n",
    "print(ravdess_dataset.shape)"
   ]
  },
  {
   "cell_type": "code",
   "execution_count": 3,
   "id": "67a7f0e1",
   "metadata": {},
   "outputs": [
    {
     "name": "stdout",
     "output_type": "stream",
     "text": [
      "                                                path  emotion\n",
      "0  C:\\\\Users\\\\chethan\\\\Downloads\\\\RIC\\\\audio_spee...        1\n",
      "1  C:\\\\Users\\\\chethan\\\\Downloads\\\\RIC\\\\audio_spee...        1\n",
      "2  C:\\\\Users\\\\chethan\\\\Downloads\\\\RIC\\\\audio_spee...        1\n",
      "3  C:\\\\Users\\\\chethan\\\\Downloads\\\\RIC\\\\audio_spee...        1\n",
      "4  C:\\\\Users\\\\chethan\\\\Downloads\\\\RIC\\\\audio_spee...        2\n"
     ]
    }
   ],
   "source": [
    "# Displaying the loaded dataset\n",
    "print(ravdess_dataset.head())"
   ]
  },
  {
   "cell_type": "code",
   "execution_count": 5,
   "id": "aa63cd0d",
   "metadata": {},
   "outputs": [],
   "source": [
    "# Mapping emotion labels to stress levels\n",
    "stress_mapping = {\n",
    "    1: 'low_stress',\n",
    "    2: 'low_stress',\n",
    "    3: 'low_stress',\n",
    "    4: 'low_stress',\n",
    "    5: 'high_stress',\n",
    "    6: 'high_stress',\n",
    "    7: 'high_stress',\n",
    "    8: 'high_stress',\n",
    "}\n",
    "\n",
    "ravdess_dataset['stress_level'] = ravdess_dataset['emotion'].map(stress_mapping)\n"
   ]
  },
  {
   "cell_type": "code",
   "execution_count": 6,
   "id": "afb2f529",
   "metadata": {},
   "outputs": [
    {
     "name": "stdout",
     "output_type": "stream",
     "text": [
      "                                                path  emotion stress_level\n",
      "0  C:\\\\Users\\\\chethan\\\\Downloads\\\\RIC\\\\audio_spee...        1   low_stress\n",
      "1  C:\\\\Users\\\\chethan\\\\Downloads\\\\RIC\\\\audio_spee...        1   low_stress\n",
      "2  C:\\\\Users\\\\chethan\\\\Downloads\\\\RIC\\\\audio_spee...        1   low_stress\n",
      "3  C:\\\\Users\\\\chethan\\\\Downloads\\\\RIC\\\\audio_spee...        1   low_stress\n",
      "4  C:\\\\Users\\\\chethan\\\\Downloads\\\\RIC\\\\audio_spee...        2   low_stress\n"
     ]
    }
   ],
   "source": [
    "# Displaying the loaded dataset\n",
    "print(ravdess_dataset.head())"
   ]
  },
  {
   "cell_type": "code",
   "execution_count": 7,
   "id": "ab9fe33e",
   "metadata": {},
   "outputs": [
    {
     "name": "stdout",
     "output_type": "stream",
     "text": [
      "Number of High Stressed Instances in Audio Dataset: 768\n",
      "Number of Low Stressed Instances in Audio Dataset: 672\n"
     ]
    }
   ],
   "source": [
    "# Getting the count of stress levels\n",
    "high_stress_count_audio = ravdess_dataset[ravdess_dataset['stress_level'] == 'high_stress'].shape[0]\n",
    "low_stress_count_audio = ravdess_dataset[ravdess_dataset['stress_level'] == 'low_stress'].shape[0]\n",
    "\n",
    "print(\"Number of High Stressed Instances in Audio Dataset:\", high_stress_count_audio)\n",
    "print(\"Number of Low Stressed Instances in Audio Dataset:\", low_stress_count_audio)"
   ]
  },
  {
   "cell_type": "code",
   "execution_count": 8,
   "id": "f171cd67",
   "metadata": {},
   "outputs": [],
   "source": [
    "# Function to extract features from audio files\n",
    "def extract_features(file_path):\n",
    "    try:\n",
    "        # Loading audio file with librosa\n",
    "        audio, sample_rate = librosa.load(file_path, res_type='kaiser_fast')\n",
    "\n",
    "        # Extracting features using librosa\n",
    "        mfccs = np.mean(librosa.feature.mfcc(y=audio, sr=sample_rate, n_mfcc=13), axis=1)\n",
    "        chroma = np.mean(librosa.feature.chroma_stft(y=audio, sr=sample_rate), axis=1)\n",
    "        mel = np.mean(librosa.feature.melspectrogram(y=audio, sr=sample_rate), axis=1)\n",
    "        contrast = np.mean(librosa.feature.spectral_contrast(y=audio, sr=sample_rate), axis=1)\n",
    "        tonnetz = np.mean(librosa.feature.tonnetz(y=audio, sr=sample_rate), axis=1)\n",
    "\n",
    "        # Combining all features into a single array\n",
    "        feature_array = np.concatenate((mfccs, chroma, mel, contrast, tonnetz))\n",
    "\n",
    "    except Exception as e:\n",
    "        print(f\"Error encountered while parsing file: {file_path}. Error: {e}\")\n",
    "        return None\n",
    "\n",
    "    return feature_array"
   ]
  },
  {
   "cell_type": "code",
   "execution_count": 9,
   "id": "2a43fdba",
   "metadata": {},
   "outputs": [
    {
     "name": "stdout",
     "output_type": "stream",
     "text": [
      "Requirement already satisfied: resampy in c:\\users\\chethan\\anaconda3\\lib\\site-packages (0.4.2)\n",
      "Requirement already satisfied: numpy>=1.17 in c:\\users\\chethan\\anaconda3\\lib\\site-packages (from resampy) (1.24.3)\n",
      "Requirement already satisfied: numba>=0.53 in c:\\users\\chethan\\anaconda3\\lib\\site-packages (from resampy) (0.57.1)\n",
      "Requirement already satisfied: llvmlite<0.41,>=0.40.0dev0 in c:\\users\\chethan\\anaconda3\\lib\\site-packages (from numba>=0.53->resampy) (0.40.0)\n"
     ]
    },
    {
     "name": "stderr",
     "output_type": "stream",
     "text": [
      "C:\\Users\\chethan\\anaconda3\\Lib\\site-packages\\librosa\\core\\spectrum.py:257: UserWarning: n_fft=1024 is too large for input signal of length=1012\n",
      "  warnings.warn(\n"
     ]
    }
   ],
   "source": [
    "# Extracting features from each audio file and create a DataFrame\n",
    "!pip install resampy\n",
    "ravdess_dataset['features'] = ravdess_dataset['path'].apply(extract_features)\n"
   ]
  },
  {
   "cell_type": "code",
   "execution_count": 10,
   "id": "564c4b4c",
   "metadata": {},
   "outputs": [],
   "source": [
    "# Dropping rows with missing features\n",
    "ravdess_dataset = ravdess_dataset.dropna()\n"
   ]
  },
  {
   "cell_type": "code",
   "execution_count": 11,
   "id": "7550e2cf",
   "metadata": {},
   "outputs": [],
   "source": [
    "# Converting features to a list and labels to a NumPy array\n",
    "X = np.array(ravdess_dataset['features'].tolist())\n",
    "y = np.array(ravdess_dataset['stress_level'])"
   ]
  },
  {
   "cell_type": "code",
   "execution_count": 12,
   "id": "287dab61",
   "metadata": {},
   "outputs": [],
   "source": [
    "# Encoding the target labels\n",
    "le = LabelEncoder()\n",
    "y_encoded = le.fit_transform(y)\n",
    "y_categorical = to_categorical(y_encoded)"
   ]
  },
  {
   "cell_type": "code",
   "execution_count": 13,
   "id": "908b2dfd",
   "metadata": {},
   "outputs": [],
   "source": [
    "# Splitting the dataset into training and testing sets\n",
    "X_train, X_test, y_train, y_test = train_test_split(X, y_categorical, test_size=0.2, random_state=42)\n"
   ]
  },
  {
   "cell_type": "code",
   "execution_count": 14,
   "id": "db470095",
   "metadata": {},
   "outputs": [],
   "source": [
    "# Standardizing the features\n",
    "scaler = StandardScaler()\n",
    "X_train_scaled = scaler.fit_transform(X_train)\n",
    "X_test_scaled = scaler.transform(X_test)"
   ]
  },
  {
   "cell_type": "code",
   "execution_count": 15,
   "id": "e528dc97",
   "metadata": {},
   "outputs": [],
   "source": [
    "# Building the neural network model\n",
    "model = Sequential()\n",
    "model.add(Dense(256, input_shape=(X_train_scaled.shape[1],), activation='relu'))\n",
    "model.add(Dropout(0.5))\n",
    "model.add(Dense(128, activation='relu'))\n",
    "model.add(Dropout(0.5))\n",
    "model.add(Dense(2, activation='softmax'))"
   ]
  },
  {
   "cell_type": "code",
   "execution_count": 16,
   "id": "0e9beab0",
   "metadata": {},
   "outputs": [],
   "source": [
    "# Compiling the model\n",
    "model.compile(loss='categorical_crossentropy', optimizer='adam', metrics=['accuracy'])\n"
   ]
  },
  {
   "cell_type": "code",
   "execution_count": 17,
   "id": "2af9946f",
   "metadata": {},
   "outputs": [
    {
     "name": "stdout",
     "output_type": "stream",
     "text": [
      "Epoch 1/50\n",
      "29/29 [==============================] - 3s 28ms/step - loss: 0.7868 - accuracy: 0.5657 - val_loss: 0.5908 - val_accuracy: 0.6970\n",
      "Epoch 2/50\n",
      "29/29 [==============================] - 0s 7ms/step - loss: 0.6348 - accuracy: 0.6558 - val_loss: 0.5540 - val_accuracy: 0.7273\n",
      "Epoch 3/50\n",
      "29/29 [==============================] - 0s 7ms/step - loss: 0.5806 - accuracy: 0.6840 - val_loss: 0.5339 - val_accuracy: 0.7403\n",
      "Epoch 4/50\n",
      "29/29 [==============================] - 0s 7ms/step - loss: 0.5570 - accuracy: 0.7123 - val_loss: 0.5156 - val_accuracy: 0.7446\n",
      "Epoch 5/50\n",
      "29/29 [==============================] - 0s 7ms/step - loss: 0.5355 - accuracy: 0.7438 - val_loss: 0.5071 - val_accuracy: 0.7619\n",
      "Epoch 6/50\n",
      "29/29 [==============================] - 0s 7ms/step - loss: 0.4979 - accuracy: 0.7557 - val_loss: 0.4875 - val_accuracy: 0.7792\n",
      "Epoch 7/50\n",
      "29/29 [==============================] - 0s 9ms/step - loss: 0.4984 - accuracy: 0.7633 - val_loss: 0.4818 - val_accuracy: 0.7835\n",
      "Epoch 8/50\n",
      "29/29 [==============================] - 0s 8ms/step - loss: 0.4658 - accuracy: 0.7850 - val_loss: 0.4704 - val_accuracy: 0.7879\n",
      "Epoch 9/50\n",
      "29/29 [==============================] - 0s 9ms/step - loss: 0.4471 - accuracy: 0.8013 - val_loss: 0.4709 - val_accuracy: 0.7792\n",
      "Epoch 10/50\n",
      "29/29 [==============================] - 0s 6ms/step - loss: 0.4294 - accuracy: 0.7937 - val_loss: 0.4512 - val_accuracy: 0.7922\n",
      "Epoch 11/50\n",
      "29/29 [==============================] - 0s 9ms/step - loss: 0.4233 - accuracy: 0.7991 - val_loss: 0.4563 - val_accuracy: 0.8182\n",
      "Epoch 12/50\n",
      "29/29 [==============================] - 0s 7ms/step - loss: 0.4010 - accuracy: 0.8208 - val_loss: 0.4465 - val_accuracy: 0.8139\n",
      "Epoch 13/50\n",
      "29/29 [==============================] - 0s 6ms/step - loss: 0.4070 - accuracy: 0.8284 - val_loss: 0.4316 - val_accuracy: 0.8225\n",
      "Epoch 14/50\n",
      "29/29 [==============================] - 0s 7ms/step - loss: 0.3851 - accuracy: 0.8154 - val_loss: 0.4238 - val_accuracy: 0.8139\n",
      "Epoch 15/50\n",
      "29/29 [==============================] - 0s 7ms/step - loss: 0.3695 - accuracy: 0.8317 - val_loss: 0.4224 - val_accuracy: 0.8182\n",
      "Epoch 16/50\n",
      "29/29 [==============================] - 0s 6ms/step - loss: 0.3718 - accuracy: 0.8393 - val_loss: 0.4210 - val_accuracy: 0.8355\n",
      "Epoch 17/50\n",
      "29/29 [==============================] - 0s 6ms/step - loss: 0.3646 - accuracy: 0.8436 - val_loss: 0.4171 - val_accuracy: 0.8312\n",
      "Epoch 18/50\n",
      "29/29 [==============================] - 0s 6ms/step - loss: 0.3734 - accuracy: 0.8371 - val_loss: 0.4242 - val_accuracy: 0.8355\n",
      "Epoch 19/50\n",
      "29/29 [==============================] - 0s 7ms/step - loss: 0.3520 - accuracy: 0.8491 - val_loss: 0.4237 - val_accuracy: 0.8268\n",
      "Epoch 20/50\n",
      "29/29 [==============================] - 0s 7ms/step - loss: 0.3636 - accuracy: 0.8458 - val_loss: 0.4172 - val_accuracy: 0.8182\n",
      "Epoch 21/50\n",
      "29/29 [==============================] - 0s 7ms/step - loss: 0.3190 - accuracy: 0.8686 - val_loss: 0.4165 - val_accuracy: 0.8095\n",
      "Epoch 22/50\n",
      "29/29 [==============================] - 0s 8ms/step - loss: 0.2976 - accuracy: 0.8773 - val_loss: 0.4608 - val_accuracy: 0.8312\n",
      "Epoch 23/50\n",
      "29/29 [==============================] - 0s 6ms/step - loss: 0.2795 - accuracy: 0.8860 - val_loss: 0.4354 - val_accuracy: 0.8355\n",
      "Epoch 24/50\n",
      "29/29 [==============================] - 0s 7ms/step - loss: 0.2798 - accuracy: 0.8979 - val_loss: 0.4418 - val_accuracy: 0.8355\n",
      "Epoch 25/50\n",
      "29/29 [==============================] - 0s 6ms/step - loss: 0.2693 - accuracy: 0.8925 - val_loss: 0.4436 - val_accuracy: 0.8398\n",
      "Epoch 26/50\n",
      "29/29 [==============================] - 0s 7ms/step - loss: 0.2469 - accuracy: 0.9066 - val_loss: 0.4580 - val_accuracy: 0.8268\n",
      "Epoch 27/50\n",
      "29/29 [==============================] - 0s 7ms/step - loss: 0.2724 - accuracy: 0.8806 - val_loss: 0.4571 - val_accuracy: 0.8442\n",
      "Epoch 28/50\n",
      "29/29 [==============================] - 0s 8ms/step - loss: 0.2561 - accuracy: 0.8969 - val_loss: 0.4498 - val_accuracy: 0.8485\n",
      "Epoch 29/50\n",
      "29/29 [==============================] - 0s 6ms/step - loss: 0.2399 - accuracy: 0.9066 - val_loss: 0.4560 - val_accuracy: 0.8615\n",
      "Epoch 30/50\n",
      "29/29 [==============================] - 0s 6ms/step - loss: 0.2527 - accuracy: 0.8979 - val_loss: 0.4817 - val_accuracy: 0.8485\n",
      "Epoch 31/50\n",
      "29/29 [==============================] - 0s 8ms/step - loss: 0.2159 - accuracy: 0.9186 - val_loss: 0.4623 - val_accuracy: 0.8485\n",
      "Epoch 32/50\n",
      "29/29 [==============================] - 0s 7ms/step - loss: 0.2472 - accuracy: 0.9023 - val_loss: 0.4554 - val_accuracy: 0.8528\n",
      "Epoch 33/50\n",
      "29/29 [==============================] - 0s 7ms/step - loss: 0.2158 - accuracy: 0.9164 - val_loss: 0.5020 - val_accuracy: 0.8442\n",
      "Epoch 34/50\n",
      "29/29 [==============================] - 0s 7ms/step - loss: 0.2191 - accuracy: 0.9110 - val_loss: 0.4998 - val_accuracy: 0.8528\n",
      "Epoch 35/50\n",
      "29/29 [==============================] - 0s 8ms/step - loss: 0.2005 - accuracy: 0.9229 - val_loss: 0.4968 - val_accuracy: 0.8398\n",
      "Epoch 36/50\n",
      "29/29 [==============================] - 0s 7ms/step - loss: 0.2200 - accuracy: 0.9153 - val_loss: 0.4696 - val_accuracy: 0.8571\n",
      "Epoch 37/50\n",
      "29/29 [==============================] - 0s 7ms/step - loss: 0.2360 - accuracy: 0.8936 - val_loss: 0.4977 - val_accuracy: 0.8355\n",
      "Epoch 38/50\n",
      "29/29 [==============================] - 0s 6ms/step - loss: 0.1999 - accuracy: 0.9240 - val_loss: 0.4689 - val_accuracy: 0.8442\n",
      "Epoch 39/50\n",
      "29/29 [==============================] - 0s 6ms/step - loss: 0.2011 - accuracy: 0.9294 - val_loss: 0.4972 - val_accuracy: 0.8528\n",
      "Epoch 40/50\n",
      "29/29 [==============================] - 0s 8ms/step - loss: 0.1933 - accuracy: 0.9240 - val_loss: 0.5309 - val_accuracy: 0.8528\n",
      "Epoch 41/50\n",
      "29/29 [==============================] - 0s 7ms/step - loss: 0.1930 - accuracy: 0.9240 - val_loss: 0.4851 - val_accuracy: 0.8442\n",
      "Epoch 42/50\n",
      "29/29 [==============================] - 0s 7ms/step - loss: 0.2231 - accuracy: 0.9283 - val_loss: 0.5643 - val_accuracy: 0.8139\n",
      "Epoch 43/50\n",
      "29/29 [==============================] - 0s 8ms/step - loss: 0.1823 - accuracy: 0.9197 - val_loss: 0.5062 - val_accuracy: 0.8528\n",
      "Epoch 44/50\n",
      "29/29 [==============================] - 0s 7ms/step - loss: 0.1709 - accuracy: 0.9283 - val_loss: 0.5213 - val_accuracy: 0.8571\n",
      "Epoch 45/50\n",
      "29/29 [==============================] - 0s 7ms/step - loss: 0.1443 - accuracy: 0.9490 - val_loss: 0.5495 - val_accuracy: 0.8528\n",
      "Epoch 46/50\n",
      "29/29 [==============================] - 0s 7ms/step - loss: 0.2441 - accuracy: 0.9099 - val_loss: 0.5031 - val_accuracy: 0.8485\n",
      "Epoch 47/50\n",
      "29/29 [==============================] - 0s 7ms/step - loss: 0.1876 - accuracy: 0.9381 - val_loss: 0.5325 - val_accuracy: 0.8398\n",
      "Epoch 48/50\n",
      "29/29 [==============================] - 0s 7ms/step - loss: 0.1601 - accuracy: 0.9370 - val_loss: 0.5103 - val_accuracy: 0.8571\n",
      "Epoch 49/50\n",
      "29/29 [==============================] - 0s 7ms/step - loss: 0.1921 - accuracy: 0.9381 - val_loss: 0.5275 - val_accuracy: 0.8571\n",
      "Epoch 50/50\n",
      "29/29 [==============================] - 0s 8ms/step - loss: 0.1451 - accuracy: 0.9392 - val_loss: 0.5532 - val_accuracy: 0.8528\n"
     ]
    },
    {
     "data": {
      "text/plain": [
       "<keras.src.callbacks.History at 0x21c8a837a10>"
      ]
     },
     "execution_count": 17,
     "metadata": {},
     "output_type": "execute_result"
    }
   ],
   "source": [
    "# Training the model\n",
    "model.fit(X_train_scaled, y_train, epochs=50, batch_size=32, validation_split=0.2, verbose=1)\n"
   ]
  },
  {
   "cell_type": "code",
   "execution_count": 18,
   "id": "def548b4",
   "metadata": {},
   "outputs": [
    {
     "name": "stdout",
     "output_type": "stream",
     "text": [
      "9/9 [==============================] - 0s 5ms/step\n"
     ]
    }
   ],
   "source": [
    "# Making predictions on the test set\n",
    "y_pred = model.predict(X_test_scaled)"
   ]
  },
  {
   "cell_type": "code",
   "execution_count": 19,
   "id": "85408069",
   "metadata": {},
   "outputs": [],
   "source": [
    "# Convertting predictions to class labels\n",
    "y_pred_labels = le.inverse_transform(np.argmax(y_pred, axis=1))\n",
    "y_test_labels = le.inverse_transform(np.argmax(y_test, axis=1))"
   ]
  },
  {
   "cell_type": "code",
   "execution_count": 20,
   "id": "88f840c5",
   "metadata": {},
   "outputs": [
    {
     "name": "stdout",
     "output_type": "stream",
     "text": [
      "Classification Report:\n",
      "               precision    recall  f1-score   support\n",
      "\n",
      " high_stress       0.83      0.87      0.85       151\n",
      "  low_stress       0.85      0.80      0.82       137\n",
      "\n",
      "    accuracy                           0.84       288\n",
      "   macro avg       0.84      0.84      0.84       288\n",
      "weighted avg       0.84      0.84      0.84       288\n",
      "\n",
      "Accuracy: 0.8368055555555556\n"
     ]
    }
   ],
   "source": [
    "# Evaluate the model\n",
    "print(\"Classification Report:\\n\", classification_report(y_test_labels, y_pred_labels))\n",
    "print(\"Accuracy:\", accuracy_score(y_test_labels, y_pred_labels))"
   ]
  },
  {
   "cell_type": "code",
   "execution_count": 21,
   "id": "149b6e1c",
   "metadata": {},
   "outputs": [
    {
     "data": {
      "image/png": "[encoded data removed]",
      "text/plain": [
       "<Figure size 800x600 with 2 Axes>"
      ]
     },
     "metadata": {},
     "output_type": "display_data"
    }
   ],
   "source": [
    "from sklearn.metrics import confusion_matrix, roc_curve, auc\n",
    "import matplotlib.pyplot as plt\n",
    "import seaborn as sns\n",
    "\n",
    "# Confusion Matrix\n",
    "cm = confusion_matrix(y_test_labels, y_pred_labels)\n",
    "plt.figure(figsize=(8, 6))\n",
    "sns.heatmap(cm, annot=True, fmt='d', cmap='Blues', xticklabels=['low_stress', 'high_stress'], yticklabels=['low_stress', 'high_stress'])\n",
    "plt.title('Confusion Matrix')\n",
    "plt.xlabel('Predicted')\n",
    "plt.ylabel('Actual')\n",
    "plt.show()"
   ]
  },
  {
   "cell_type": "code",
   "execution_count": 22,
   "id": "c5381ea9",
   "metadata": {},
   "outputs": [],
   "source": [
    "# ROC Curve\n",
    "fpr, tpr, thresholds = roc_curve((y_test_labels == 'high_stress').astype(int), (y_pred_labels == 'high_stress').astype(int))\n",
    "roc_auc = auc(fpr, tpr)"
   ]
  },
  {
   "cell_type": "code",
   "execution_count": 23,
   "id": "0e47e06e",
   "metadata": {},
   "outputs": [
    {
     "data": {
      "image/png": "[encoded data removed]",
      "text/plain": [
       "<Figure size 800x600 with 1 Axes>"
      ]
     },
     "metadata": {},
     "output_type": "display_data"
    }
   ],
   "source": [
    "plt.figure(figsize=(8, 6))\n",
    "plt.plot(fpr, tpr, color='darkorange', lw=2, label=f'ROC curve (area = {roc_auc:.2f})')\n",
    "plt.plot([0, 1], [0, 1], color='navy', lw=2, linestyle='--')\n",
    "plt.xlabel('False Positive Rate')\n",
    "plt.ylabel('True Positive Rate')\n",
    "plt.title('ROC Curve')\n",
    "plt.legend(loc='lower right')\n",
    "plt.show()"
   ]
  },
  {
   "cell_type": "code",
   "execution_count": 30,
   "id": "91b53186",
   "metadata": {},
   "outputs": [
    {
     "name": "stdout",
     "output_type": "stream",
     "text": [
      "Audio model saved successfully at: C:/Users/chethan/Downloads/RIC/audio_model_saved.joblib\n"
     ]
    }
   ],
   "source": [
    "from joblib import dump\n",
    "\n",
    "# Save the audio model\n",
    "save_path = 'C:/Users/chethan/Downloads/RIC/audio_model_saved.joblib'\n",
    "dump(model, save_path)\n",
    "\n",
    "print(f\"Audio model saved successfully at: {save_path}\")"
   ]
  },
  {
   "cell_type": "code",
   "execution_count": null,
   "id": "de41a0a5",
   "metadata": {},
   "outputs": [],
   "source": []
  }
 ],
 "metadata": {
  "kernelspec": {
   "display_name": "Python 3 (ipykernel)",
   "language": "python",
   "name": "python3"
  },
  "language_info": {
   "codemirror_mode": {
    "name": "ipython",
    "version": 3
   },
   "file_extension": ".py",
   "mimetype": "text/x-python",
   "name": "python",
   "nbconvert_exporter": "python",
   "pygments_lexer": "ipython3",
   "version": "3.11.5"
  }
 },
 "nbformat": 4,
 "nbformat_minor": 5
}
