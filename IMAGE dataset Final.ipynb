{
 "cells": [
  {
   "cell_type": "code",
   "execution_count": 1,
   "id": "3d8c832c",
   "metadata": {},
   "outputs": [
    {
     "name": "stderr",
     "output_type": "stream",
     "text": [
      "C:\\Users\\chethan\\anaconda3\\Lib\\site-packages\\paramiko\\transport.py:219: CryptographyDeprecationWarning: Blowfish has been deprecated\n",
      "  \"class\": algorithms.Blowfish,\n"
     ]
    }
   ],
   "source": [
    "#importing the libraries\n",
    "import os\n",
    "import numpy as np\n",
    "import pandas as pd\n",
    "from sklearn.model_selection import train_test_split\n",
    "from sklearn.preprocessing import LabelEncoder, MinMaxScaler\n",
    "from sklearn.metrics import classification_report, confusion_matrix, roc_curve, auc\n",
    "from tensorflow.keras.preprocessing.image import load_img, img_to_array\n",
    "from tensorflow.keras.models import Sequential\n",
    "from tensorflow.keras.layers import Conv2D, MaxPooling2D, Flatten, Dense, Dropout\n",
    "from tensorflow.keras.callbacks import EarlyStopping\n",
    "from tensorflow.keras.optimizers import Adam\n",
    "from tensorflow.keras.applications import EfficientNetB0\n",
    "from efficientnet.keras import center_crop_and_resize"
   ]
  },
  {
   "cell_type": "code",
   "execution_count": 2,
   "id": "93579e56",
   "metadata": {},
   "outputs": [
    {
     "data": {
      "text/html": [
       "<div>\n",
       "<style scoped>\n",
       "    .dataframe tbody tr th:only-of-type {\n",
       "        vertical-align: middle;\n",
       "    }\n",
       "\n",
       "    .dataframe tbody tr th {\n",
       "        vertical-align: top;\n",
       "    }\n",
       "\n",
       "    .dataframe thead th {\n",
       "        text-align: right;\n",
       "    }\n",
       "</style>\n",
       "<table border=\"1\" class=\"dataframe\">\n",
       "  <thead>\n",
       "    <tr style=\"text-align: right;\">\n",
       "      <th></th>\n",
       "      <th>Unnamed: 0</th>\n",
       "      <th>pth</th>\n",
       "      <th>label</th>\n",
       "      <th>relFCs</th>\n",
       "    </tr>\n",
       "  </thead>\n",
       "  <tbody>\n",
       "    <tr>\n",
       "      <th>0</th>\n",
       "      <td>0</td>\n",
       "      <td>anger/image0000006.jpg</td>\n",
       "      <td>surprise</td>\n",
       "      <td>0.873142</td>\n",
       "    </tr>\n",
       "    <tr>\n",
       "      <th>1</th>\n",
       "      <td>1</td>\n",
       "      <td>anger/image0000060.jpg</td>\n",
       "      <td>anger</td>\n",
       "      <td>0.852311</td>\n",
       "    </tr>\n",
       "    <tr>\n",
       "      <th>2</th>\n",
       "      <td>2</td>\n",
       "      <td>anger/image0000061.jpg</td>\n",
       "      <td>anger</td>\n",
       "      <td>0.800957</td>\n",
       "    </tr>\n",
       "    <tr>\n",
       "      <th>3</th>\n",
       "      <td>3</td>\n",
       "      <td>anger/image0000066.jpg</td>\n",
       "      <td>disgust</td>\n",
       "      <td>0.843079</td>\n",
       "    </tr>\n",
       "    <tr>\n",
       "      <th>4</th>\n",
       "      <td>4</td>\n",
       "      <td>anger/image0000106.jpg</td>\n",
       "      <td>anger</td>\n",
       "      <td>0.849108</td>\n",
       "    </tr>\n",
       "  </tbody>\n",
       "</table>\n",
       "</div>"
      ],
      "text/plain": [
       "   Unnamed: 0                     pth     label    relFCs\n",
       "0           0  anger/image0000006.jpg  surprise  0.873142\n",
       "1           1  anger/image0000060.jpg     anger  0.852311\n",
       "2           2  anger/image0000061.jpg     anger  0.800957\n",
       "3           3  anger/image0000066.jpg   disgust  0.843079\n",
       "4           4  anger/image0000106.jpg     anger  0.849108"
      ]
     },
     "execution_count": 2,
     "metadata": {},
     "output_type": "execute_result"
    }
   ],
   "source": [
    "# Update the file path\n",
    "path = 'C:\\\\Users\\\\chethan\\\\Downloads\\\\RIC\\\\Image dataset\\\\'\n",
    "file = os.path.join(path, 'labels.csv')\n",
    "# Load the dataset\n",
    "emotion_dataset = pd.read_csv(file)\n",
    "emotion_dataset.head()"
   ]
  },
  {
   "cell_type": "code",
   "execution_count": 3,
   "id": "ae79905f",
   "metadata": {},
   "outputs": [],
   "source": [
    "# Data augmentation using OpenCV\n",
    "from tensorflow.keras.preprocessing.image import ImageDataGenerator"
   ]
  },
  {
   "cell_type": "code",
   "execution_count": 4,
   "id": "3d540de9",
   "metadata": {},
   "outputs": [],
   "source": [
    "# Map existing labels to stress levels\n",
    "stress_level_mapping = {\n",
    "    'anger': 'high_stressed',\n",
    "    'contempt': 'low_stressed',\n",
    "    'disgust': 'high_stressed',\n",
    "    'fear': 'high_stressed',\n",
    "    'happy': 'low_stressed',\n",
    "    'neutral': 'low_stressed',\n",
    "    'sad': 'high_stressed',\n",
    "    'surprise': 'low_stressed'\n",
    "}"
   ]
  },
  {
   "cell_type": "code",
   "execution_count": 5,
   "id": "42052472",
   "metadata": {},
   "outputs": [],
   "source": [
    "# Add a new column 'stress_level' based on the mapping\n",
    "emotion_dataset['stress_level'] = emotion_dataset['label'].map(stress_level_mapping)\n"
   ]
  },
  {
   "cell_type": "code",
   "execution_count": 6,
   "id": "6fe8c11d",
   "metadata": {},
   "outputs": [
    {
     "name": "stdout",
     "output_type": "stream",
     "text": [
      "Number of High Stressed Instances: 13118\n",
      "Number of Low Stressed Instances: 15057\n"
     ]
    }
   ],
   "source": [
    "# Adding the 'stress_level' column in your DataFrame\n",
    "high_stressed_count = emotion_dataset[emotion_dataset['stress_level'] == 'high_stressed'].shape[0]\n",
    "low_stressed_count = emotion_dataset[emotion_dataset['stress_level'] == 'low_stressed'].shape[0]\n",
    "print(\"Number of High Stressed Instances:\", high_stressed_count)\n",
    "print(\"Number of Low Stressed Instances:\", low_stressed_count)\n"
   ]
  },
  {
   "cell_type": "code",
   "execution_count": 7,
   "id": "6c64f766",
   "metadata": {},
   "outputs": [],
   "source": [
    "# Handling Missing Values\n",
    "emotion_dataset.dropna(inplace=True)\n"
   ]
  },
  {
   "cell_type": "code",
   "execution_count": 8,
   "id": "e551ee60",
   "metadata": {},
   "outputs": [],
   "source": [
    "# Remove outliers using z-score\n",
    "import numpy as np\n",
    "from scipy.stats import zscore\n",
    "emotion_dataset = emotion_dataset[(np.abs(zscore(emotion_dataset[['relFCs']])) < 3).all(axis=1)]"
   ]
  },
  {
   "cell_type": "code",
   "execution_count": 9,
   "id": "3c04c9bb",
   "metadata": {},
   "outputs": [
    {
     "data": {
      "image/png": "[encoded data removed]",
      "text/plain": [
       "<Figure size 640x480 with 1 Axes>"
      ]
     },
     "metadata": {},
     "output_type": "display_data"
    }
   ],
   "source": [
    "# Exploratory Data Analysis\n",
    "import seaborn as sns\n",
    "import matplotlib.pyplot as plt\n",
    "\n",
    "# Distribution of stress levels\n",
    "sns.countplot(x='stress_level', data=emotion_dataset)\n",
    "plt.title('Distribution of Stress Levels')\n",
    "plt.show()"
   ]
  },
  {
   "cell_type": "code",
   "execution_count": 10,
   "id": "7a653619",
   "metadata": {},
   "outputs": [],
   "source": [
    "# Min-Max Scaling\n",
    "scaler = MinMaxScaler()\n",
    "emotion_dataset[['relFCs']] = scaler.fit_transform(emotion_dataset[['relFCs']])\n"
   ]
  },
  {
   "cell_type": "code",
   "execution_count": 11,
   "id": "1dfc8b05",
   "metadata": {},
   "outputs": [],
   "source": [
    "# Train-test split\n",
    "X_train_features, X_test_features, y_train, y_test = train_test_split(\n",
    "    emotion_dataset[['relFCs', 'pth']], emotion_dataset['stress_level'], test_size=0.2, random_state=42\n",
    ")"
   ]
  },
  {
   "cell_type": "code",
   "execution_count": 12,
   "id": "fdfe1e63",
   "metadata": {},
   "outputs": [],
   "source": [
    "# Data augmentation using ImageDataGenerator\n",
    "train_datagen = ImageDataGenerator(\n",
    "    rotation_range=20,\n",
    "    width_shift_range=0.2,\n",
    "    height_shift_range=0.2,\n",
    "    shear_range=0.2,\n",
    "    zoom_range=0.2,\n",
    "    horizontal_flip=True,\n",
    "    fill_mode='nearest'\n",
    ")"
   ]
  },
  {
   "cell_type": "code",
   "execution_count": 13,
   "id": "93576924",
   "metadata": {},
   "outputs": [],
   "source": [
    "# Reshape the data for RGB images\n",
    "image_height = 96\n",
    "image_width = 96\n",
    "num_channels = 3  # For RGB images"
   ]
  },
  {
   "cell_type": "code",
   "execution_count": 14,
   "id": "809274be",
   "metadata": {},
   "outputs": [],
   "source": [
    "# Load and preprocess the images for training with data augmentation\n",
    "X_train_images = []\n",
    "for image_path in X_train_features['pth']:\n",
    "    img = load_img(os.path.join(path, image_path), target_size=(image_height, image_width))\n",
    "    img_array = img_to_array(img)\n",
    "    img_array = train_datagen.random_transform(img_array)\n",
    "    X_train_images.append(img_array)\n",
    "\n",
    "X_train_images = np.array(X_train_images)"
   ]
  },
  {
   "cell_type": "code",
   "execution_count": 15,
   "id": "d5ac1214",
   "metadata": {},
   "outputs": [],
   "source": [
    "# Load and preprocess the images for testing\n",
    "X_test_images = []\n",
    "for image_path in X_test_features['pth']:\n",
    "    img = load_img(os.path.join(path, image_path), target_size=(image_height, image_width))\n",
    "    img_array = img_to_array(img)\n",
    "    X_test_images.append(img_array)\n",
    "\n",
    "X_test_images = np.array(X_test_images)\n"
   ]
  },
  {
   "cell_type": "code",
   "execution_count": 16,
   "id": "53d8ad97",
   "metadata": {},
   "outputs": [],
   "source": [
    "# EfficientNetB0 model\n",
    "def build_efficientnet_model(input_shape=(image_height, image_width, num_channels), num_classes=1):\n",
    "    base_model = EfficientNetB0(input_shape=input_shape, include_top=False, weights='imagenet')\n",
    "\n",
    "    model = Sequential()\n",
    "    model.add(base_model)\n",
    "    model.add(Flatten())\n",
    "    model.add(Dense(128, activation='relu'))\n",
    "    model.add(Dropout(0.5))\n",
    "    model.add(Dense(num_classes, activation='sigmoid'))\n",
    "    # Compile the model\n",
    "    model.compile(optimizer=Adam(learning_rate=0.0001), loss='binary_crossentropy', metrics=['accuracy'])\n",
    "\n",
    "    return model"
   ]
  },
  {
   "cell_type": "code",
   "execution_count": 17,
   "id": "15cc9837",
   "metadata": {},
   "outputs": [],
   "source": [
    "# Initialize the model\n",
    "model = build_efficientnet_model()"
   ]
  },
  {
   "cell_type": "code",
   "execution_count": 18,
   "id": "22162c07",
   "metadata": {},
   "outputs": [],
   "source": [
    "# Define early stopping to prevent overfitting\n",
    "early_stopping = EarlyStopping(monitor='val_loss', patience=3, restore_best_weights=True)\n"
   ]
  },
  {
   "cell_type": "code",
   "execution_count": 19,
   "id": "56f067d7",
   "metadata": {},
   "outputs": [],
   "source": [
    "# Encode the target variable 'stress_level'\n",
    "label_encoder = LabelEncoder()\n",
    "y_train_encoded = label_encoder.fit_transform(y_train)\n",
    "y_test_encoded = label_encoder.transform(y_test)"
   ]
  },
  {
   "cell_type": "code",
   "execution_count": 20,
   "id": "0ae8725c",
   "metadata": {},
   "outputs": [
    {
     "name": "stdout",
     "output_type": "stream",
     "text": [
      "Epoch 1/10\n",
      "559/559 [==============================] - 846s 1s/step - loss: 0.6692 - accuracy: 0.6289 - val_loss: 0.5827 - val_accuracy: 0.7018\n",
      "Epoch 2/10\n",
      "559/559 [==============================] - 757s 1s/step - loss: 0.5065 - accuracy: 0.7527 - val_loss: 0.5456 - val_accuracy: 0.7311\n",
      "Epoch 3/10\n",
      "559/559 [==============================] - 798s 1s/step - loss: 0.4136 - accuracy: 0.8111 - val_loss: 0.5431 - val_accuracy: 0.7390\n",
      "Epoch 4/10\n",
      "559/559 [==============================] - 754s 1s/step - loss: 0.3188 - accuracy: 0.8619 - val_loss: 0.5708 - val_accuracy: 0.7475\n",
      "Epoch 5/10\n",
      "559/559 [==============================] - 761s 1s/step - loss: 0.2434 - accuracy: 0.8998 - val_loss: 0.6536 - val_accuracy: 0.7372\n",
      "Epoch 6/10\n",
      "559/559 [==============================] - 748s 1s/step - loss: 0.1785 - accuracy: 0.9295 - val_loss: 0.6970 - val_accuracy: 0.7605\n"
     ]
    }
   ],
   "source": [
    "# Train the model\n",
    "history = model.fit(X_train_images, y_train_encoded, epochs=10, batch_size=32,\n",
    "                    validation_split=0.2, callbacks=[early_stopping])\n"
   ]
  },
  {
   "cell_type": "code",
   "execution_count": 21,
   "id": "36bea7bf",
   "metadata": {},
   "outputs": [
    {
     "name": "stdout",
     "output_type": "stream",
     "text": [
      "175/175 [==============================] - 56s 317ms/step - loss: 0.5047 - accuracy: 0.7591\n",
      "Test Accuracy: 0.7590900659561157\n"
     ]
    }
   ],
   "source": [
    "# Evaluate the model\n",
    "test_loss, test_acc = model.evaluate(X_test_images, y_test_encoded)\n",
    "print(f'Test Accuracy: {test_acc}')\n"
   ]
  },
  {
   "cell_type": "code",
   "execution_count": 22,
   "id": "bf37b65b",
   "metadata": {},
   "outputs": [
    {
     "name": "stdout",
     "output_type": "stream",
     "text": [
      "175/175 [==============================] - 59s 316ms/step\n"
     ]
    }
   ],
   "source": [
    "# Make predictions\n",
    "y_pred = model.predict(X_test_images)\n",
    "y_pred_binary = (y_pred > 0.5).astype(int)"
   ]
  },
  {
   "cell_type": "code",
   "execution_count": 23,
   "id": "82e220ad",
   "metadata": {},
   "outputs": [
    {
     "name": "stdout",
     "output_type": "stream",
     "text": [
      "              precision    recall  f1-score   support\n",
      "\n",
      "           0       0.74      0.74      0.74      2607\n",
      "           1       0.77      0.78      0.77      2976\n",
      "\n",
      "    accuracy                           0.76      5583\n",
      "   macro avg       0.76      0.76      0.76      5583\n",
      "weighted avg       0.76      0.76      0.76      5583\n",
      "\n"
     ]
    }
   ],
   "source": [
    "# Classification report\n",
    "print(classification_report(y_test_encoded, y_pred_binary))\n"
   ]
  },
  {
   "cell_type": "code",
   "execution_count": 24,
   "id": "fccf0133",
   "metadata": {},
   "outputs": [
    {
     "name": "stdout",
     "output_type": "stream",
     "text": [
      "Confusion Matrix:\n",
      "[[1923  684]\n",
      " [ 661 2315]]\n"
     ]
    }
   ],
   "source": [
    "# Confusion matrix\n",
    "conf_matrix = confusion_matrix(y_test_encoded, y_pred_binary)\n",
    "print('Confusion Matrix:')\n",
    "print(conf_matrix)"
   ]
  },
  {
   "cell_type": "code",
   "execution_count": 25,
   "id": "0e15bedd",
   "metadata": {},
   "outputs": [
    {
     "data": {
      "image/png": "[encoded data removed]",
      "text/plain": [
       "<Figure size 640x480 with 1 Axes>"
      ]
     },
     "metadata": {},
     "output_type": "display_data"
    }
   ],
   "source": [
    "# ROC curve\n",
    "fpr, tpr, _ = roc_curve(y_test_encoded, y_pred)\n",
    "roc_auc = auc(fpr, tpr)\n",
    "\n",
    "# Plot ROC curve\n",
    "plt.figure()\n",
    "plt.plot(fpr, tpr, color='darkorange', lw=2, label='ROC curve (area = {:.2f})'.format(roc_auc))\n",
    "plt.plot([0, 1], [0, 1], color='navy', lw=2, linestyle='--')\n",
    "plt.xlabel('False Positive Rate')\n",
    "plt.ylabel('True Positive Rate')\n",
    "plt.title('Receiver Operating Characteristic')\n",
    "plt.legend(loc='lower right')\n",
    "plt.show()"
   ]
  },
  {
   "cell_type": "code",
   "execution_count": 26,
   "id": "701f3e26",
   "metadata": {},
   "outputs": [
    {
     "data": {
      "image/png": "[encoded data removed]",
      "text/plain": [
       "<Figure size 640x480 with 2 Axes>"
      ]
     },
     "metadata": {},
     "output_type": "display_data"
    }
   ],
   "source": [
    "# Confusion Matrix Plot\n",
    "import seaborn as sns\n",
    "import matplotlib.pyplot as plt\n",
    "\n",
    "# Define the class labels\n",
    "class_labels = ['Low Stressed', 'High Stressed']\n",
    "\n",
    "# Plot the confusion matrix\n",
    "sns.heatmap(conf_matrix, annot=True, fmt='d', cmap='Blues', xticklabels=class_labels, yticklabels=class_labels)\n",
    "plt.title('Confusion Matrix')\n",
    "plt.xlabel('Predicted')\n",
    "plt.ylabel('True')\n",
    "plt.show()"
   ]
  },
  {
   "cell_type": "code",
   "execution_count": 30,
   "id": "c284eea3",
   "metadata": {},
   "outputs": [
    {
     "name": "stdout",
     "output_type": "stream",
     "text": [
      "EfficientNet model saved successfully at: C:/Users/chethan/Downloads/RIC/efficientnet_model.joblib\n"
     ]
    }
   ],
   "source": [
    "from joblib import dump\n",
    "\n",
    "save_path_efficientnet = 'C:/Users/chethan/Downloads/RIC/efficientnet_model.joblib'\n",
    "\n",
    "# Save the EfficientNet model\n",
    "dump(model, save_path_efficientnet)\n",
    "\n",
    "print(f\"EfficientNet model saved successfully at: {save_path_efficientnet}\")"
   ]
  },
  {
   "cell_type": "code",
   "execution_count": null,
   "id": "37d1e54e",
   "metadata": {},
   "outputs": [],
   "source": []
  }
 ],
 "metadata": {
  "kernelspec": {
   "display_name": "Python 3 (ipykernel)",
   "language": "python",
   "name": "python3"
  },
  "language_info": {
   "codemirror_mode": {
    "name": "ipython",
    "version": 3
   },
   "file_extension": ".py",
   "mimetype": "text/x-python",
   "name": "python",
   "nbconvert_exporter": "python",
   "pygments_lexer": "ipython3",
   "version": "3.11.5"
  }
 },
 "nbformat": 4,
 "nbformat_minor": 5
}
