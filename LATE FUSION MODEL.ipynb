{
 "cells": [
  {
   "cell_type": "code",
   "execution_count": 2,
   "id": "d9f52a7d",
   "metadata": {},
   "outputs": [],
   "source": [
    "import numpy as np\n",
    "from joblib import load\n",
    "# Loading the saved models\n",
    "audio_model = load('C:/Users/chethan/Downloads/RIC/audio_model_saved.joblib') \n",
    "text_model = load('C:/Users/chethan/Downloads/RIC/logistic_regression_model.joblib')  \n",
    "image_model = load('C:/Users/chethan/Downloads/RIC/efficientnet_model.joblib')  "
   ]
  },
  {
   "cell_type": "code",
   "execution_count": 3,
   "id": "b6065cdd",
   "metadata": {},
   "outputs": [],
   "source": [
    "import os\n",
    "import librosa\n",
    "import pandas as pd\n",
    "import numpy as np\n",
    "from sklearn.model_selection import train_test_split\n",
    "\n",
    "from sklearn.preprocessing import StandardScaler, LabelEncoder\n",
    "\n",
    "from sklearn.metrics import classification_report, accuracy_score\n",
    "from sklearn.model_selection import train_test_split\n",
    "\n",
    "# Function to load RAVDESS dataset\n",
    "def load_ravdess_dataset(dataset_path):\n",
    "    data = {'path': [], 'emotion': []}\n",
    "\n",
    "    # Iterate over actor folders\n",
    "    for actor_folder in os.listdir(dataset_path):\n",
    "        actor_path = os.path.join(dataset_path, actor_folder)\n",
    "\n",
    "        if os.path.isdir(actor_path):\n",
    "            # Iterate over audio files in each actor folder\n",
    "            for audio_file in os.listdir(actor_path):\n",
    "                audio_path = os.path.join(actor_path, audio_file)\n",
    "\n",
    "                # Extract emotion from the file name (assuming file names are structured)\n",
    "                emotion = int(audio_file.split('-')[2])\n",
    "\n",
    "                # Append data to the dictionary\n",
    "                data['path'].append(audio_path)\n",
    "                data['emotion'].append(emotion)\n",
    "\n",
    "    # Creating a DataFrame from the dictionary\n",
    "    df = pd.DataFrame(data)\n",
    "    \n",
    "    return df\n",
    "\n",
    "\n",
    "dataset_path = r'C:\\\\Users\\\\chethan\\\\Downloads\\\\RIC\\\\audio_speech_actors_01-24'\n",
    "\n",
    "# Load the dataset\n",
    "ravdess_dataset = load_ravdess_dataset(dataset_path)\n"
   ]
  },
  {
   "cell_type": "code",
   "execution_count": 4,
   "id": "eba2f2c2",
   "metadata": {},
   "outputs": [],
   "source": [
    "# Map emotion labels to stress levels\n",
    "stress_mapping = {\n",
    "    1: 'low_stress',\n",
    "    2: 'low_stress',\n",
    "    3: 'low_stress',\n",
    "    4: 'low_stress',\n",
    "    5: 'high_stress',\n",
    "    6: 'high_stress',\n",
    "    7: 'high_stress',\n",
    "    8: 'high_stress',\n",
    "}\n",
    "\n",
    "ravdess_dataset['stress_level'] = ravdess_dataset['emotion'].map(stress_mapping)"
   ]
  },
  {
   "cell_type": "code",
   "execution_count": 5,
   "id": "e2d239ca",
   "metadata": {},
   "outputs": [
    {
     "name": "stdout",
     "output_type": "stream",
     "text": [
      "                                                path  emotion stress_level\n",
      "0  C:\\\\Users\\\\chethan\\\\Downloads\\\\RIC\\\\audio_spee...        1   low_stress\n",
      "1  C:\\\\Users\\\\chethan\\\\Downloads\\\\RIC\\\\audio_spee...        1   low_stress\n",
      "2  C:\\\\Users\\\\chethan\\\\Downloads\\\\RIC\\\\audio_spee...        1   low_stress\n",
      "3  C:\\\\Users\\\\chethan\\\\Downloads\\\\RIC\\\\audio_spee...        1   low_stress\n",
      "4  C:\\\\Users\\\\chethan\\\\Downloads\\\\RIC\\\\audio_spee...        2   low_stress\n"
     ]
    }
   ],
   "source": [
    "# Displaying the loaded dataset\n",
    "print(ravdess_dataset.head())"
   ]
  },
  {
   "cell_type": "code",
   "execution_count": 6,
   "id": "18c6f6f1",
   "metadata": {},
   "outputs": [],
   "source": [
    "# Function to extract features from audio files\n",
    "def extract_features(file_path):\n",
    "    try:\n",
    "        # Load audio file with librosa\n",
    "        audio, sample_rate = librosa.load(file_path, res_type='kaiser_fast')\n",
    "\n",
    "        # Extract features using librosa\n",
    "        mfccs = np.mean(librosa.feature.mfcc(y=audio, sr=sample_rate, n_mfcc=13), axis=1)\n",
    "        chroma = np.mean(librosa.feature.chroma_stft(y=audio, sr=sample_rate), axis=1)\n",
    "        mel = np.mean(librosa.feature.melspectrogram(y=audio, sr=sample_rate), axis=1)\n",
    "        contrast = np.mean(librosa.feature.spectral_contrast(y=audio, sr=sample_rate), axis=1)\n",
    "        tonnetz = np.mean(librosa.feature.tonnetz(y=audio, sr=sample_rate), axis=1)\n",
    "\n",
    "        # Combining all features into a single array\n",
    "        feature_array = np.concatenate((mfccs, chroma, mel, contrast, tonnetz))\n",
    "\n",
    "    except Exception as e:\n",
    "        print(f\"Error encountered while parsing file: {file_path}. Error: {e}\")\n",
    "        return None\n",
    "\n",
    "    return feature_array"
   ]
  },
  {
   "cell_type": "code",
   "execution_count": 7,
   "id": "e9efcef1",
   "metadata": {},
   "outputs": [
    {
     "name": "stderr",
     "output_type": "stream",
     "text": [
      "C:\\Users\\chethan\\anaconda3\\Lib\\site-packages\\librosa\\core\\spectrum.py:257: UserWarning: n_fft=1024 is too large for input signal of length=1012\n",
      "  warnings.warn(\n"
     ]
    }
   ],
   "source": [
    "ravdess_dataset['features'] = ravdess_dataset['path'].apply(extract_features)\n"
   ]
  },
  {
   "cell_type": "code",
   "execution_count": 8,
   "id": "4ba7a1fe",
   "metadata": {},
   "outputs": [],
   "source": [
    "# Drop rows with missing features\n",
    "ravdess_dataset = ravdess_dataset.dropna()"
   ]
  },
  {
   "cell_type": "code",
   "execution_count": 9,
   "id": "677acc5c",
   "metadata": {},
   "outputs": [],
   "source": [
    "# Convert features to a list and labels to a NumPy array\n",
    "X = np.array(ravdess_dataset['features'].tolist())\n",
    "y = np.array(ravdess_dataset['stress_level'])"
   ]
  },
  {
   "cell_type": "code",
   "execution_count": 10,
   "id": "4be3233d",
   "metadata": {},
   "outputs": [],
   "source": [
    "# Encode the target labels\n",
    "from keras.utils import to_categorical\n",
    "from sklearn.preprocessing import LabelEncoder\n",
    "le = LabelEncoder()\n",
    "y_encoded = le.fit_transform(y)\n",
    "y_categorical = to_categorical(y_encoded)"
   ]
  },
  {
   "cell_type": "code",
   "execution_count": 11,
   "id": "64e75bd5",
   "metadata": {},
   "outputs": [],
   "source": [
    "# Split the dataset into training and testing sets\n",
    "X_train, X_test_audio, y_train, y_test_audio = train_test_split(X, y_categorical, test_size=0.2, random_state=42)\n"
   ]
  },
  {
   "cell_type": "code",
   "execution_count": 12,
   "id": "a9b474ab",
   "metadata": {},
   "outputs": [],
   "source": [
    "# Standardize the features\n",
    "scaler = StandardScaler()\n",
    "X_train_scaled = scaler.fit_transform(X_train)\n",
    "X_test_scaled = scaler.transform(X_test_audio)"
   ]
  },
  {
   "cell_type": "code",
   "execution_count": 13,
   "id": "ccda5b2f",
   "metadata": {},
   "outputs": [
    {
     "data": {
      "text/html": [
       "<div>\n",
       "<style scoped>\n",
       "    .dataframe tbody tr th:only-of-type {\n",
       "        vertical-align: middle;\n",
       "    }\n",
       "\n",
       "    .dataframe tbody tr th {\n",
       "        vertical-align: top;\n",
       "    }\n",
       "\n",
       "    .dataframe thead th {\n",
       "        text-align: right;\n",
       "    }\n",
       "</style>\n",
       "<table border=\"1\" class=\"dataframe\">\n",
       "  <thead>\n",
       "    <tr style=\"text-align: right;\">\n",
       "      <th></th>\n",
       "      <th>Unnamed: 0</th>\n",
       "      <th>pth</th>\n",
       "      <th>label</th>\n",
       "      <th>relFCs</th>\n",
       "    </tr>\n",
       "  </thead>\n",
       "  <tbody>\n",
       "    <tr>\n",
       "      <th>0</th>\n",
       "      <td>0</td>\n",
       "      <td>anger/image0000006.jpg</td>\n",
       "      <td>surprise</td>\n",
       "      <td>0.873142</td>\n",
       "    </tr>\n",
       "    <tr>\n",
       "      <th>1</th>\n",
       "      <td>1</td>\n",
       "      <td>anger/image0000060.jpg</td>\n",
       "      <td>anger</td>\n",
       "      <td>0.852311</td>\n",
       "    </tr>\n",
       "    <tr>\n",
       "      <th>2</th>\n",
       "      <td>2</td>\n",
       "      <td>anger/image0000061.jpg</td>\n",
       "      <td>anger</td>\n",
       "      <td>0.800957</td>\n",
       "    </tr>\n",
       "    <tr>\n",
       "      <th>3</th>\n",
       "      <td>3</td>\n",
       "      <td>anger/image0000066.jpg</td>\n",
       "      <td>disgust</td>\n",
       "      <td>0.843079</td>\n",
       "    </tr>\n",
       "    <tr>\n",
       "      <th>4</th>\n",
       "      <td>4</td>\n",
       "      <td>anger/image0000106.jpg</td>\n",
       "      <td>anger</td>\n",
       "      <td>0.849108</td>\n",
       "    </tr>\n",
       "  </tbody>\n",
       "</table>\n",
       "</div>"
      ],
      "text/plain": [
       "   Unnamed: 0                     pth     label    relFCs\n",
       "0           0  anger/image0000006.jpg  surprise  0.873142\n",
       "1           1  anger/image0000060.jpg     anger  0.852311\n",
       "2           2  anger/image0000061.jpg     anger  0.800957\n",
       "3           3  anger/image0000066.jpg   disgust  0.843079\n",
       "4           4  anger/image0000106.jpg     anger  0.849108"
      ]
     },
     "execution_count": 13,
     "metadata": {},
     "output_type": "execute_result"
    }
   ],
   "source": [
    "# Update the file path\n",
    "path = 'C:\\\\Users\\\\chethan\\\\Downloads\\\\RIC\\\\Image dataset\\\\'\n",
    "file = os.path.join(path, 'labels.csv')\n",
    "# Load the dataset\n",
    "emotion_dataset = pd.read_csv(file)\n",
    "emotion_dataset.head()"
   ]
  },
  {
   "cell_type": "code",
   "execution_count": 14,
   "id": "a2f2fe22",
   "metadata": {},
   "outputs": [
    {
     "name": "stdout",
     "output_type": "stream",
     "text": [
      "Index(['Unnamed: 0', 'pth', 'label', 'relFCs'], dtype='object')\n"
     ]
    }
   ],
   "source": [
    "print(emotion_dataset.columns)"
   ]
  },
  {
   "cell_type": "code",
   "execution_count": 15,
   "id": "43b257fc",
   "metadata": {},
   "outputs": [],
   "source": [
    "# Map existing labels to stress levels\n",
    "stress_level_mapping = {\n",
    "    'anger': 'high_stressed',\n",
    "    'contempt': 'low_stressed',\n",
    "    'disgust': 'high_stressed', \n",
    "    'fear': 'high_stressed',\n",
    "    'happy': 'low_stressed',\n",
    "    'neutral': 'low_stressed',\n",
    "    'sad': 'high_stressed',\n",
    "    'surprise': 'low_stressed'\n",
    "}\n",
    "\n",
    "# Add a new column 'stress_level' based on the mapping\n",
    "emotion_dataset['stress_level'] = emotion_dataset['label'].map(stress_level_mapping)"
   ]
  },
  {
   "cell_type": "code",
   "execution_count": 16,
   "id": "eab02a2b",
   "metadata": {},
   "outputs": [
    {
     "name": "stdout",
     "output_type": "stream",
     "text": [
      "Index(['Unnamed: 0', 'pth', 'label', 'relFCs', 'stress_level'], dtype='object')\n"
     ]
    }
   ],
   "source": [
    "print(emotion_dataset.columns)"
   ]
  },
  {
   "cell_type": "code",
   "execution_count": 17,
   "id": "30d3fc6b",
   "metadata": {},
   "outputs": [
    {
     "name": "stdout",
     "output_type": "stream",
     "text": [
      "Number of High Stressed Instances: 13118\n",
      "Number of Low Stressed Instances: 15057\n"
     ]
    }
   ],
   "source": [
    "# Adding the 'stress_level' column in your DataFrame\n",
    "high_stressed_count = emotion_dataset[emotion_dataset['stress_level'] == 'high_stressed'].shape[0]\n",
    "low_stressed_count = emotion_dataset[emotion_dataset['stress_level'] == 'low_stressed'].shape[0]\n",
    "print(\"Number of High Stressed Instances:\", high_stressed_count)\n",
    "print(\"Number of Low Stressed Instances:\", low_stressed_count)\n"
   ]
  },
  {
   "cell_type": "code",
   "execution_count": 18,
   "id": "279a70ec",
   "metadata": {},
   "outputs": [],
   "source": [
    "# Handling Missing Values\n",
    "emotion_dataset.dropna(inplace=True)\n"
   ]
  },
  {
   "cell_type": "code",
   "execution_count": 19,
   "id": "e20bf48e",
   "metadata": {},
   "outputs": [],
   "source": [
    "# Remove outliers using z-score\n",
    "import numpy as np\n",
    "from scipy.stats import zscore\n",
    "emotion_dataset = emotion_dataset[(np.abs(zscore(emotion_dataset[['relFCs']])) < 3).all(axis=1)]"
   ]
  },
  {
   "cell_type": "code",
   "execution_count": 20,
   "id": "610a3c4e",
   "metadata": {},
   "outputs": [],
   "source": [
    "# Min-Max Scaling\n",
    "from sklearn.preprocessing import LabelEncoder, MinMaxScaler\n",
    "scaler = MinMaxScaler()\n",
    "emotion_dataset[['relFCs']] = scaler.fit_transform(emotion_dataset[['relFCs']])\n"
   ]
  },
  {
   "cell_type": "code",
   "execution_count": 21,
   "id": "74c74cf9",
   "metadata": {},
   "outputs": [],
   "source": [
    "# Train-test split\n",
    "X_train_features, X_test_features, y_train, y_test = train_test_split(\n",
    "    emotion_dataset[['relFCs', 'pth']], emotion_dataset['stress_level'], test_size=0.2, random_state=42\n",
    ")"
   ]
  },
  {
   "cell_type": "code",
   "execution_count": 22,
   "id": "8c9a952c",
   "metadata": {},
   "outputs": [
    {
     "name": "stderr",
     "output_type": "stream",
     "text": [
      "C:\\Users\\chethan\\anaconda3\\Lib\\site-packages\\paramiko\\transport.py:219: CryptographyDeprecationWarning: Blowfish has been deprecated\n",
      "  \"class\": algorithms.Blowfish,\n"
     ]
    }
   ],
   "source": [
    "# Data augmentation using ImageDataGenerator\n",
    "import os\n",
    "import numpy as np\n",
    "import pandas as pd\n",
    "from sklearn.model_selection import train_test_split\n",
    "from sklearn.preprocessing import LabelEncoder, MinMaxScaler\n",
    "from sklearn.metrics import classification_report, confusion_matrix, roc_curve, auc\n",
    "from tensorflow.keras.preprocessing.image import load_img, img_to_array\n",
    "from tensorflow.keras.models import Sequential\n",
    "from tensorflow.keras.layers import Conv2D, MaxPooling2D, Flatten, Dense, Dropout\n",
    "from tensorflow.keras.callbacks import EarlyStopping\n",
    "from tensorflow.keras.optimizers import Adam\n",
    "from tensorflow.keras.applications import EfficientNetB0\n",
    "from efficientnet.keras import center_crop_and_resize\n",
    "from tensorflow.keras.preprocessing.image import ImageDataGenerator\n",
    "train_datagen = ImageDataGenerator(\n",
    "    rotation_range=20,\n",
    "    width_shift_range=0.2,\n",
    "    height_shift_range=0.2,\n",
    "    shear_range=0.2,\n",
    "    zoom_range=0.2,\n",
    "    horizontal_flip=True,\n",
    "    fill_mode='nearest'\n",
    ")"
   ]
  },
  {
   "cell_type": "code",
   "execution_count": 23,
   "id": "6346e730",
   "metadata": {},
   "outputs": [],
   "source": [
    "# Reshape the data for RGB images\n",
    "image_height = 96\n",
    "image_width = 96\n",
    "num_channels = 3  # For RGB images"
   ]
  },
  {
   "cell_type": "code",
   "execution_count": 24,
   "id": "817d51bd",
   "metadata": {},
   "outputs": [],
   "source": [
    "# Load and preprocess the images for training with data augmentation\n",
    "from tensorflow.keras.preprocessing.image import load_img, img_to_array\n",
    "X_train_images = []\n",
    "for image_path in X_train_features['pth']:\n",
    "    img = load_img(os.path.join(path, image_path), target_size=(image_height, image_width))\n",
    "    img_array = img_to_array(img)\n",
    "    img_array = train_datagen.random_transform(img_array)\n",
    "    X_train_images.append(img_array)\n",
    "\n",
    "X_train_images = np.array(X_train_images)"
   ]
  },
  {
   "cell_type": "code",
   "execution_count": 25,
   "id": "cdb7e9e9",
   "metadata": {},
   "outputs": [],
   "source": [
    "# Load and preprocess the images for testing\n",
    "X_test_images = []\n",
    "for image_path in X_test_features['pth']:\n",
    "    img = load_img(os.path.join(path, image_path), target_size=(image_height, image_width))\n",
    "    img_array = img_to_array(img)\n",
    "    X_test_images.append(img_array)\n",
    "\n",
    "X_test_images = np.array(X_test_images)"
   ]
  },
  {
   "cell_type": "code",
   "execution_count": 26,
   "id": "1d57d05b",
   "metadata": {},
   "outputs": [],
   "source": [
    "example_text = [\"Dealing with a lot of personal issues lately. It's hard to stay positive.\"]"
   ]
  },
  {
   "cell_type": "code",
   "execution_count": 27,
   "id": "0a0e02ba",
   "metadata": {},
   "outputs": [],
   "source": [
    "#loading data set\n",
    "dataset = pd.read_csv('training.1600000.processed.noemoticon.csv',encoding='ISO-8859-1')"
   ]
  },
  {
   "cell_type": "code",
   "execution_count": 28,
   "id": "bb032912",
   "metadata": {},
   "outputs": [],
   "source": [
    "#the first row contains column names\n",
    "dataset.columns = [\"sentiment\", \"ids\", \"date\", \"flag\", \"user\", \"text\"]\n"
   ]
  },
  {
   "cell_type": "code",
   "execution_count": 29,
   "id": "049b2a2c",
   "metadata": {},
   "outputs": [
    {
     "name": "stdout",
     "output_type": "stream",
     "text": [
      "Unique Sentiments: [0 4]\n",
      "Class Counts:\n",
      "stress_level\n",
      "low stressed     800000\n",
      "high stressed    799999\n",
      "Name: count, dtype: int64\n"
     ]
    }
   ],
   "source": [
    "# Display unique values in the 'sentiment' column\n",
    "unique_sentiments = dataset['sentiment'].unique()\n",
    "print(\"Unique Sentiments:\", unique_sentiments)\n",
    "\n",
    "# Adjust the mapping based on your sentiment values\n",
    "sentiment_mapping = {0: 'high stressed', 4: 'low stressed'}\n",
    "dataset['stress_level'] = dataset['sentiment'].map(sentiment_mapping)\n",
    "\n",
    "# Checking the class counts\n",
    "class_counts = dataset['stress_level'].value_counts()\n",
    "\n",
    "print(\"Class Counts:\")\n",
    "print(class_counts)"
   ]
  },
  {
   "cell_type": "code",
   "execution_count": 30,
   "id": "8afa71ce",
   "metadata": {},
   "outputs": [],
   "source": [
    "# Storing data in lists\n",
    "text, stress_levels = list(dataset['text']), list(dataset['stress_level'])\n"
   ]
  },
  {
   "cell_type": "code",
   "execution_count": 31,
   "id": "302b93ac",
   "metadata": {},
   "outputs": [],
   "source": [
    "# Defining dictionary containing all emojis with their meanings.\n",
    "emojis = {':)': 'smile', ':-)': 'smile', ';d': 'wink', ':-E': 'vampire', ':(': 'sad', \n",
    "          ':-(': 'sad', ':-<': 'sad', ':P': 'raspberry', ':O': 'surprised',\n",
    "          ':-@': 'shocked', ':@': 'shocked',':-$': 'confused', ':\\\\': 'annoyed', \n",
    "          ':#': 'mute', ':X': 'mute', ':^)': 'smile', ':-&': 'confused', '$_$': 'greedy',\n",
    "          '@@': 'eyeroll', ':-!': 'confused', ':-D': 'smile', ':-0': 'yell', 'O.o': 'confused',\n",
    "          '<(-_-)>': 'robot', 'd[-_-]b': 'dj', \":'-)\": 'sadsmile', ';)': 'wink', \n",
    "          ';-)': 'wink', 'O:-)': 'angel','O*-)': 'angel','(:-D': 'gossip', '=^.^=': 'cat'}\n",
    "\n",
    "## Defining set containing all stopwords in english.\n",
    "stopwordlist = ['a', 'about', 'above', 'after', 'again', 'ain', 'all', 'am', 'an',\n",
    "             'and','any','are', 'as', 'at', 'be', 'because', 'been', 'before',\n",
    "             'being', 'below', 'between','both', 'by', 'can', 'd', 'did', 'do',\n",
    "             'does', 'doing', 'down', 'during', 'each','few', 'for', 'from', \n",
    "             'further', 'had', 'has', 'have', 'having', 'he', 'her', 'here',\n",
    "             'hers', 'herself', 'him', 'himself', 'his', 'how', 'i', 'if', 'in',\n",
    "             'into','is', 'it', 'its', 'itself', 'just', 'll', 'm', 'ma',\n",
    "             'me', 'more', 'most','my', 'myself', 'now', 'o', 'of', 'on', 'once',\n",
    "             'only', 'or', 'other', 'our', 'ours','ourselves', 'out', 'own', 're',\n",
    "             's', 'same', 'she', \"shes\", 'should', \"shouldve\",'so', 'some', 'such',\n",
    "             't', 'than', 'that', \"thatll\", 'the', 'their', 'theirs', 'them',\n",
    "             'themselves', 'then', 'there', 'these', 'they', 'this', 'those', \n",
    "             'through', 'to', 'too','under', 'until', 'up', 've', 'very', 'was',\n",
    "             'we', 'were', 'what', 'when', 'where','which','while', 'who', 'whom',\n",
    "             'why', 'will', 'with', 'won', 'y', 'you', \"youd\",\"youll\", \"youre\",\n",
    "             \"youve\", 'your', 'yours', 'yourself', 'yourselves']"
   ]
  },
  {
   "cell_type": "code",
   "execution_count": 32,
   "id": "3d117bec",
   "metadata": {},
   "outputs": [],
   "source": [
    "def preprocess(textdata):\n",
    "    processedText = []\n",
    "    \n",
    "    # Create Lemmatizer and Stemmer.\n",
    "    wordLemm = WordNetLemmatizer()\n",
    "    \n",
    "    # Defining regex patterns.\n",
    "    urlPattern        = r\"((http://)[^ ]*|(https://)[^ ]*|( www\\.)[^ ]*)\"\n",
    "    userPattern       = '@[^\\s]+'\n",
    "    alphaPattern      = \"[^a-zA-Z0-9]\"\n",
    "    sequencePattern   = r\"(.)\\1\\1+\"\n",
    "    seqReplacePattern = r\"\\1\\1\"\n",
    "    \n",
    "    for tweet in textdata:\n",
    "        tweet = tweet.lower()\n",
    "        \n",
    "        # Replace all URls with 'URL'\n",
    "        tweet = re.sub(urlPattern,' URL',tweet)\n",
    "        # Replace all emojis.\n",
    "        for emoji in emojis.keys():\n",
    "            tweet = tweet.replace(emoji, \"EMOJI\" + emojis[emoji])        \n",
    "        # Replace @USERNAME to 'USER'.\n",
    "        tweet = re.sub(userPattern,' USER', tweet)        \n",
    "        # Replace all non alphabets.\n",
    "        tweet = re.sub(alphaPattern, \" \", tweet)\n",
    "        # Replace 3 or more consecutive letters by 2 letter.\n",
    "        tweet = re.sub(sequencePattern, seqReplacePattern, tweet)\n",
    "\n",
    "        tweetwords = ''\n",
    "        for word in tweet.split():\n",
    "            # Checking if the word is a stopword.\n",
    "            #if word not in stopwordlist:\n",
    "            if len(word)>1:\n",
    "                # Lemmatizing the word.\n",
    "                word = wordLemm.lemmatize(word)\n",
    "                tweetwords += (word+' ')\n",
    "            \n",
    "        processedText.append(tweetwords)\n",
    "        \n",
    "    return processedText"
   ]
  },
  {
   "cell_type": "code",
   "execution_count": 33,
   "id": "e51f07f8",
   "metadata": {},
   "outputs": [
    {
     "name": "stdout",
     "output_type": "stream",
     "text": [
      "Text Preprocessing complete.\n",
      "Time Taken: 247 seconds\n"
     ]
    }
   ],
   "source": [
    "import time\n",
    "from nltk.stem import WordNetLemmatizer\n",
    "import re\n",
    "t = time.time()\n",
    "processedtext = preprocess(text)\n",
    "print(f'Text Preprocessing complete.')\n",
    "print(f'Time Taken: {round(time.time()-t)} seconds')"
   ]
  },
  {
   "cell_type": "code",
   "execution_count": 34,
   "id": "65f5b03b",
   "metadata": {},
   "outputs": [],
   "source": [
    "# Splitting the Data\n",
    "from wordcloud import WordCloud\n",
    "import matplotlib.pyplot as plt\n",
    "from nltk.stem import WordNetLemmatizer\n",
    "from sklearn.svm import LinearSVC\n",
    "from sklearn.naive_bayes import BernoulliNB\n",
    "from sklearn.linear_model import LogisticRegression\n",
    "from sklearn.model_selection import train_test_split\n",
    "from sklearn.feature_extraction.text import TfidfVectorizer\n",
    "from sklearn.metrics import confusion_matrix, classification_report\n",
    "X_train, X_test_text, y_train, y_test_text = train_test_split(processedtext, stress_levels, test_size=0.3, random_state=0)\n"
   ]
  },
  {
   "cell_type": "code",
   "execution_count": 35,
   "id": "25a18742",
   "metadata": {},
   "outputs": [],
   "source": [
    "# Combine the text and labels for the selected test samples\n",
    "selected_test_data = list(zip(X_test_text, y_test_text))"
   ]
  },
  {
   "cell_type": "code",
   "execution_count": 36,
   "id": "e647bdef",
   "metadata": {},
   "outputs": [
    {
     "data": {
      "text/plain": [
       "['C:/Users/chethan/Downloads/RIC/tfidf_vectorizer.joblib']"
      ]
     },
     "execution_count": 36,
     "metadata": {},
     "output_type": "execute_result"
    }
   ],
   "source": [
    "from sklearn.feature_extraction.text import TfidfVectorizer\n",
    "from joblib import dump\n",
    "\n",
    "# TF-IDF Vectorizer\n",
    "vectorizer = TfidfVectorizer(ngram_range=(1, 2), max_features=500000)\n",
    "\n",
    "# Fit and transform on the training data\n",
    "X_train_transformed = vectorizer.fit_transform(X_train)\n",
    "\n",
    "# Save the vectorizer\n",
    "dump(vectorizer, 'C:/Users/chethan/Downloads/RIC/tfidf_vectorizer.joblib')\n"
   ]
  },
  {
   "cell_type": "code",
   "execution_count": 43,
   "id": "3a4a8220",
   "metadata": {},
   "outputs": [
    {
     "name": "stdout",
     "output_type": "stream",
     "text": [
      "9/9 [==============================] - 0s 4ms/step\n",
      "175/175 [==============================] - 70s 383ms/step\n",
      "Binary Classification Model Performance:\n",
      "              precision    recall  f1-score   support\n",
      "\n",
      "           0       0.86      0.75      0.80       159\n",
      "           1       0.73      0.85      0.79       129\n",
      "\n",
      "    accuracy                           0.80       288\n",
      "   macro avg       0.80      0.80      0.79       288\n",
      "weighted avg       0.80      0.80      0.80       288\n",
      "\n",
      "Confusion Matrix:\n",
      "[[119  40]\n",
      " [ 19 110]]\n"
     ]
    }
   ],
   "source": [
    "import numpy as np\n",
    "from joblib import load, dump\n",
    "from sklearn.model_selection import train_test_split\n",
    "from sklearn.preprocessing import StandardScaler\n",
    "from sklearn.linear_model import LogisticRegression\n",
    "from sklearn.metrics import classification_report, confusion_matrix\n",
    "from sklearn.feature_extraction.text import TfidfVectorizer\n",
    "\n",
    "# Load the saved models\n",
    "audio_model = load('C:/Users/chethan/Downloads/RIC/audio_model_saved.joblib')\n",
    "image_model = load('C:/Users/chethan/Downloads/RIC/efficientnet_model.joblib')\n",
    "text_model = load('C:/Users/chethan/Downloads/RIC/logistic_regression_model.joblib')\n",
    "tfidf_vectorizer = load('C:/Users/chethan/Downloads/RIC/tfidf_vectorizer.joblib')\n",
    "\n",
    "#  test data for audio, image, and text\n",
    "audio_test_data = X_test_audio\n",
    "video_test_data = X_test_images  \n",
    "text_test_data = X_test_text  \n",
    "\n",
    "# Obtain predictions from individual models\n",
    "audio_predictions = audio_model.predict(audio_test_data)\n",
    "image_predictions = image_model.predict(video_test_data)\n",
    "text_predictions_proba = text_model.predict_proba(tfidf_vectorizer.transform(text_test_data))[:, 1]\n",
    "\n",
    "# Ensuring all predictions have the same number of samples\n",
    "min_samples = min(len(audio_predictions), len(image_predictions), len(text_predictions_proba))\n",
    "audio_predictions = audio_predictions[:min_samples]\n",
    "image_predictions = image_predictions[:min_samples]\n",
    "text_predictions_proba = text_predictions_proba[:min_samples]\n",
    "\n",
    "# Concatenate features\n",
    "all_features = np.concatenate((audio_predictions[:, 0].reshape(-1, 1), image_predictions, text_predictions_proba.reshape(-1, 1)), axis=1)\n",
    "\n",
    "# Standardizing the features\n",
    "scaler = StandardScaler()\n",
    "X_test_scaled_late = scaler.fit_transform(all_features)\n",
    "\n",
    "y_test_binary = np.where(y_test_combined[:, 0] == 'high_stressed', 1, 0)\n",
    "y_test_binary = y_test_binary[:min_samples]\n",
    "\n",
    "# Initialize late fusion model\n",
    "late_fusion_model = LogisticRegression()\n",
    "\n",
    "late_fusion_model.fit(X_test_scaled_late, y_test_binary)\n",
    "\n",
    "# Obtain predictions from the late fusion model\n",
    "late_fusion_predictions_proba = late_fusion_model.predict_proba(X_test_scaled_late)[:, 1]\n",
    "\n",
    "# Adjust the decision threshold based on precision-recall curve\n",
    "precision, recall, thresholds = precision_recall_curve(y_test_binary, late_fusion_predictions_proba)\n",
    "\n",
    "# Finding the threshold that maximizes F1-score or any other preferred metric\n",
    "best_threshold = thresholds[np.argmax(2 * precision * recall / (precision + recall))]\n",
    "late_fusion_predictions = (late_fusion_predictions_proba >= best_threshold).astype(int)\n",
    "\n",
    "# Evaluating performance\n",
    "print(\"Binary Classification Model Performance:\")\n",
    "print(classification_report(y_test_binary, late_fusion_predictions))\n",
    "print(\"Confusion Matrix:\")\n",
    "print(confusion_matrix(y_test_binary, late_fusion_predictions))\n"
   ]
  },
  {
   "cell_type": "code",
   "execution_count": 44,
   "id": "1f31aa11",
   "metadata": {},
   "outputs": [
    {
     "data": {
      "image/png": "[encoded data removed]",
      "text/plain": [
       "<Figure size 640x480 with 2 Axes>"
      ]
     },
     "metadata": {},
     "output_type": "display_data"
    }
   ],
   "source": [
    "import seaborn as sns\n",
    "sns.heatmap(confusion_matrix(y_test_binary, late_fusion_predictions), annot=True, fmt='d', cmap='Blues')\n",
    "plt.xlabel('Predicted')\n",
    "plt.ylabel('True')\n",
    "plt.title('Confusion Matrix Heatmap')\n",
    "plt.show()"
   ]
  },
  {
   "cell_type": "code",
   "execution_count": 45,
   "id": "2cac361e",
   "metadata": {},
   "outputs": [
    {
     "data": {
      "image/png": "[encoded data removed]",
      "text/plain": [
       "<Figure size 800x600 with 1 Axes>"
      ]
     },
     "metadata": {},
     "output_type": "display_data"
    }
   ],
   "source": [
    "from sklearn.metrics import precision_recall_curve\n",
    "precision, recall, _ = precision_recall_curve(y_test_binary, late_fusion_predictions_proba)\n",
    "\n",
    "plt.figure(figsize=(8, 6))\n",
    "plt.plot(recall, precision, color='darkorange', lw=2, label='Precision-Recall curve')\n",
    "plt.xlabel('Recall')\n",
    "plt.ylabel('Precision')\n",
    "plt.title('Precision-Recall Curve')\n",
    "plt.legend(loc=\"lower right\")\n",
    "plt.show()"
   ]
  },
  {
   "cell_type": "code",
   "execution_count": 46,
   "id": "47e01214",
   "metadata": {},
   "outputs": [
    {
     "data": {
      "image/png": "[encoded data removed]",
      "text/plain": [
       "<Figure size 800x600 with 1 Axes>"
      ]
     },
     "metadata": {},
     "output_type": "display_data"
    }
   ],
   "source": [
    "from sklearn.metrics import roc_curve, auc\n",
    "fpr, tpr, _ = roc_curve(y_test_binary, late_fusion_predictions_proba)\n",
    "roc_auc = auc(fpr, tpr)\n",
    "\n",
    "import matplotlib.pyplot as plt\n",
    "plt.figure(figsize=(8, 6))\n",
    "plt.plot(fpr, tpr, color='darkorange', lw=2, label='ROC curve (AUC = {:.2f})'.format(roc_auc))\n",
    "plt.plot([0, 1], [0, 1], color='navy', lw=2, linestyle='--')\n",
    "plt.xlabel('False Positive Rate')\n",
    "plt.ylabel('True Positive Rate')\n",
    "plt.title('Receiver Operating Characteristic (ROC) Curve')\n",
    "plt.legend(loc=\"lower right\")\n",
    "plt.show()"
   ]
  },
  {
   "cell_type": "code",
   "execution_count": 47,
   "id": "e63fe100",
   "metadata": {},
   "outputs": [
    {
     "name": "stdout",
     "output_type": "stream",
     "text": [
      "Matthews Correlation Coefficient: 0.5983902195685744\n"
     ]
    }
   ],
   "source": [
    "from sklearn.metrics import matthews_corrcoef\n",
    "mcc = matthews_corrcoef(y_test_binary, late_fusion_predictions)\n",
    "print(\"Matthews Correlation Coefficient:\", mcc)"
   ]
  },
  {
   "cell_type": "code",
   "execution_count": 48,
   "id": "e3f27284",
   "metadata": {},
   "outputs": [
    {
     "name": "stdout",
     "output_type": "stream",
     "text": [
      "ROC-AUC: 0.8713373311881428\n"
     ]
    }
   ],
   "source": [
    "from sklearn.metrics import roc_auc_score\n",
    "roc_auc = roc_auc_score(y_test_binary, late_fusion_predictions_proba)\n",
    "print(\"ROC-AUC:\", roc_auc)"
   ]
  },
  {
   "cell_type": "code",
   "execution_count": 49,
   "id": "cf57e6dd",
   "metadata": {},
   "outputs": [
    {
     "name": "stdout",
     "output_type": "stream",
     "text": [
      "AUC-PR: 0.8512129311085325\n"
     ]
    }
   ],
   "source": [
    "from sklearn.metrics import auc\n",
    "auc_pr = auc(recall, precision)\n",
    "print(\"AUC-PR:\", auc_pr)"
   ]
  },
  {
   "cell_type": "code",
   "execution_count": 50,
   "id": "ee00dcfe",
   "metadata": {},
   "outputs": [
    {
     "data": {
      "image/png": "[encoded data removed]",
      "text/plain": [
       "<Figure size 800x600 with 1 Axes>"
      ]
     },
     "metadata": {},
     "output_type": "display_data"
    }
   ],
   "source": [
    "from sklearn.calibration import calibration_curve\n",
    "prob_true, prob_pred = calibration_curve(y_test_binary, late_fusion_predictions_proba, n_bins=10, strategy='uniform')\n",
    "\n",
    "plt.figure(figsize=(8, 6))\n",
    "plt.plot(prob_pred, prob_true, marker='o', linestyle='--', color='darkorange', label='Calibration Curve')\n",
    "plt.xlabel('Mean Predicted Probability')\n",
    "plt.ylabel('Fraction of Positives')\n",
    "plt.title('Calibration Curve')\n",
    "plt.legend(loc=\"lower right\")\n",
    "plt.show()"
   ]
  },
  {
   "cell_type": "code",
   "execution_count": 51,
   "id": "07217d01",
   "metadata": {},
   "outputs": [
    {
     "name": "stdout",
     "output_type": "stream",
     "text": [
      "Log-Loss: 0.45333213186256166\n"
     ]
    }
   ],
   "source": [
    "from sklearn.metrics import log_loss\n",
    "logloss = log_loss(y_test_binary, late_fusion_predictions_proba)\n",
    "print(\"Log-Loss:\", logloss)"
   ]
  },
  {
   "cell_type": "code",
   "execution_count": 52,
   "id": "f16cf31a",
   "metadata": {},
   "outputs": [
    {
     "name": "stdout",
     "output_type": "stream",
     "text": [
      "Brier Score: 0.14616556258908936\n"
     ]
    }
   ],
   "source": [
    "from sklearn.metrics import brier_score_loss\n",
    "brier_score = brier_score_loss(y_test_binary, late_fusion_predictions_proba)\n",
    "print(\"Brier Score:\", brier_score)"
   ]
  },
  {
   "cell_type": "code",
   "execution_count": null,
   "id": "c6402a7a",
   "metadata": {},
   "outputs": [],
   "source": []
  }
 ],
 "metadata": {
  "kernelspec": {
   "display_name": "Python 3 (ipykernel)",
   "language": "python",
   "name": "python3"
  },
  "language_info": {
   "codemirror_mode": {
    "name": "ipython",
    "version": 3
   },
   "file_extension": ".py",
   "mimetype": "text/x-python",
   "name": "python",
   "nbconvert_exporter": "python",
   "pygments_lexer": "ipython3",
   "version": "3.11.5"
  }
 },
 "nbformat": 4,
 "nbformat_minor": 5
}
